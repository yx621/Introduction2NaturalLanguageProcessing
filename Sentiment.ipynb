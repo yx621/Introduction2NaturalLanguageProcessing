{
 "cells": [
  {
   "cell_type": "raw",
   "metadata": {},
   "source": [
    "something for test"
   ]
  },
  {
   "cell_type": "code",
   "execution_count": 1,
   "metadata": {
    "collapsed": true
   },
   "outputs": [],
   "source": [
    "import nltk\n",
    "import csv\n",
    "import numpy as np"
   ]
  },
  {
   "cell_type": "code",
   "execution_count": 3,
   "metadata": {
    "collapsed": false
   },
   "outputs": [],
   "source": [
    "negative = []\n",
    "with open(\"words_negative.csv\", \"rb\") as file:\n",
    "    reader = csv.reader(file)\n",
    "    for row in reader:\n",
    "        negative.append(row)"
   ]
  },
  {
   "cell_type": "code",
   "execution_count": 4,
   "metadata": {
    "collapsed": true
   },
   "outputs": [],
   "source": [
    "positive = []\n",
    "with open(\"words_positive.csv\", \"rb\") as file:\n",
    "    reader = csv.reader(file)\n",
    "    for row in reader:\n",
    "        positive.append(row)"
   ]
  },
  {
   "cell_type": "code",
   "execution_count": 5,
   "metadata": {
    "collapsed": false
   },
   "outputs": [
    {
     "data": {
      "text/plain": [
       "[['absolutely'], ['adorable'], ['accepted'], ['acclaimed']]"
      ]
     },
     "execution_count": 5,
     "metadata": {},
     "output_type": "execute_result"
    }
   ],
   "source": [
    "positive[:4]"
   ]
  },
  {
   "cell_type": "code",
   "execution_count": 6,
   "metadata": {
    "collapsed": false
   },
   "outputs": [
    {
     "data": {
      "text/plain": [
       "[['abysmal'], ['adverse'], ['alarming'], ['angry'], ['annoy'], ['annoying']]"
      ]
     },
     "execution_count": 6,
     "metadata": {},
     "output_type": "execute_result"
    }
   ],
   "source": [
    "negative[:6]"
   ]
  },
  {
   "cell_type": "code",
   "execution_count": 14,
   "metadata": {
    "collapsed": false
   },
   "outputs": [],
   "source": [
    "def sentiment(text):\n",
    "    text_sent = nltk.sent_tokenize(text)\n",
    "    for sentence in text_sent:\n",
    "        n_count = 0\n",
    "        p_count = 0\n",
    "        sent_words = nltk.word_tokenize(sentence)\n",
    "        for word in sent_words:\n",
    "            for item in positive:\n",
    "                if (word == item[0]):\n",
    "                    p_count += 1\n",
    "            for item in negative:\n",
    "                if (word == item[0]):\n",
    "                    n_count += 1\n",
    "        if (p_count > 0 and n_count == 0):\n",
    "            print \"+ : \" + sentence\n",
    "        elif (n_count%2 > 0):\n",
    "            print \"- : \" + sentence\n",
    "        elif (n_count%2 == 0 and n_count > 0):\n",
    "            print \"+ : \" + sentence\n",
    "        else:\n",
    "            print \"? : \" + sentence"
   ]
  },
  {
   "cell_type": "code",
   "execution_count": 15,
   "metadata": {
    "collapsed": false
   },
   "outputs": [
    {
     "name": "stdout",
     "output_type": "stream",
     "text": [
      "- : It was terribly bad.\n"
     ]
    }
   ],
   "source": [
    "sentiment(\"It was terribly bad.\")"
   ]
  },
  {
   "cell_type": "code",
   "execution_count": 16,
   "metadata": {
    "collapsed": false
   },
   "outputs": [
    {
     "name": "stdout",
     "output_type": "stream",
     "text": [
      "+ : Actually it is not so bad\n"
     ]
    }
   ],
   "source": [
    "sentiment(\"Actually it is not so bad\")"
   ]
  },
  {
   "cell_type": "code",
   "execution_count": null,
   "metadata": {
    "collapsed": true
   },
   "outputs": [],
   "source": []
  }
 ],
 "metadata": {
  "anaconda-cloud": {},
  "kernelspec": {
   "display_name": "Python [Root]",
   "language": "python",
   "name": "Python [Root]"
  },
  "language_info": {
   "codemirror_mode": {
    "name": "ipython",
    "version": 2
   },
   "file_extension": ".py",
   "mimetype": "text/x-python",
   "name": "python",
   "nbconvert_exporter": "python",
   "pygments_lexer": "ipython2",
   "version": "2.7.12"
  }
 },
 "nbformat": 4,
 "nbformat_minor": 0
}
