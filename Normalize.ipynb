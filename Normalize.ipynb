{
 "cells": [
  {
   "cell_type": "code",
   "execution_count": 1,
   "metadata": {
    "collapsed": true
   },
   "outputs": [],
   "source": [
    "import nltk"
   ]
  },
  {
   "cell_type": "code",
   "execution_count": 3,
   "metadata": {
    "collapsed": false
   },
   "outputs": [],
   "source": [
    "md = nltk.corpus.gutenberg.words(\"melville-moby_dick.txt\")"
   ]
  },
  {
   "cell_type": "code",
   "execution_count": 4,
   "metadata": {
    "collapsed": false
   },
   "outputs": [
    {
     "data": {
      "text/plain": [
       "[u'[',\n",
       " u'Moby',\n",
       " u'Dick',\n",
       " u'by',\n",
       " u'Herman',\n",
       " u'Melville',\n",
       " u'1851',\n",
       " u']',\n",
       " u'ETYMOLOGY',\n",
       " u'.',\n",
       " u'(',\n",
       " u'Supplied',\n",
       " u'by',\n",
       " u'a',\n",
       " u'Late',\n",
       " u'Consumptive',\n",
       " u'Usher',\n",
       " u'to',\n",
       " u'a',\n",
       " u'Grammar',\n",
       " u'School',\n",
       " u')']"
      ]
     },
     "execution_count": 4,
     "metadata": {},
     "output_type": "execute_result"
    }
   ],
   "source": [
    "md[:22]"
   ]
  },
  {
   "cell_type": "code",
   "execution_count": 5,
   "metadata": {
    "collapsed": true
   },
   "outputs": [],
   "source": [
    "md_22 = md[:22]"
   ]
  },
  {
   "cell_type": "code",
   "execution_count": 6,
   "metadata": {
    "collapsed": false
   },
   "outputs": [
    {
     "data": {
      "text/plain": [
       "[u'[',\n",
       " u'Moby',\n",
       " u'Dick',\n",
       " u'by',\n",
       " u'Herman',\n",
       " u'Melville',\n",
       " u'1851',\n",
       " u']',\n",
       " u'ETYMOLOGY',\n",
       " u'.',\n",
       " u'(',\n",
       " u'Supplied',\n",
       " u'by',\n",
       " u'a',\n",
       " u'Late',\n",
       " u'Consumptive',\n",
       " u'Usher',\n",
       " u'to',\n",
       " u'a',\n",
       " u'Grammar',\n",
       " u'School',\n",
       " u')']"
      ]
     },
     "execution_count": 6,
     "metadata": {},
     "output_type": "execute_result"
    }
   ],
   "source": [
    "md_22"
   ]
  },
  {
   "cell_type": "code",
   "execution_count": 7,
   "metadata": {
    "collapsed": false
   },
   "outputs": [
    {
     "name": "stdout",
     "output_type": "stream",
     "text": [
      "Moby\n",
      "Dick\n",
      "by\n",
      "Herman\n",
      "Melville\n",
      "ETYMOLOGY\n",
      "Supplied\n",
      "by\n",
      "a\n",
      "Late\n",
      "Consumptive\n",
      "Usher\n",
      "to\n",
      "a\n",
      "Grammar\n",
      "School\n"
     ]
    }
   ],
   "source": [
    "for word in md_22:\n",
    "    if word.isalpha():\n",
    "        print word"
   ]
  },
  {
   "cell_type": "code",
   "execution_count": 8,
   "metadata": {
    "collapsed": false
   },
   "outputs": [
    {
     "name": "stdout",
     "output_type": "stream",
     "text": [
      "[\n",
      "moby\n",
      "dick\n",
      "by\n",
      "herman\n",
      "melville\n",
      "1851\n",
      "]\n",
      "etymology\n",
      ".\n",
      "(\n",
      "supplied\n",
      "by\n",
      "a\n",
      "late\n",
      "consumptive\n",
      "usher\n",
      "to\n",
      "a\n",
      "grammar\n",
      "school\n",
      ")\n"
     ]
    }
   ],
   "source": [
    "for word in md_22:\n",
    "    print word.lower()"
   ]
  },
  {
   "cell_type": "code",
   "execution_count": 9,
   "metadata": {
    "collapsed": true
   },
   "outputs": [],
   "source": [
    "norm = [word.lower() for word in md_22 if word.isalpha()]"
   ]
  },
  {
   "cell_type": "code",
   "execution_count": 10,
   "metadata": {
    "collapsed": false
   },
   "outputs": [
    {
     "data": {
      "text/plain": [
       "[u'moby',\n",
       " u'dick',\n",
       " u'by',\n",
       " u'herman',\n",
       " u'melville',\n",
       " u'etymology',\n",
       " u'supplied',\n",
       " u'by',\n",
       " u'a',\n",
       " u'late',\n",
       " u'consumptive',\n",
       " u'usher',\n",
       " u'to',\n",
       " u'a',\n",
       " u'grammar',\n",
       " u'school']"
      ]
     },
     "execution_count": 10,
     "metadata": {},
     "output_type": "execute_result"
    }
   ],
   "source": [
    "norm"
   ]
  },
  {
   "cell_type": "code",
   "execution_count": 15,
   "metadata": {
    "collapsed": false
   },
   "outputs": [],
   "source": [
    "porter = nltk.PorterStemmer()"
   ]
  },
  {
   "cell_type": "code",
   "execution_count": 18,
   "metadata": {
    "collapsed": true
   },
   "outputs": [],
   "source": [
    "my_list = [\"cat\", \"cats\", \"lie\", \"lying\", \"run\", \"running\", \"city\", \"cities\", \"month\", \"monthly\", \"woman\", \"women\"]"
   ]
  },
  {
   "cell_type": "code",
   "execution_count": 19,
   "metadata": {
    "collapsed": false
   },
   "outputs": [
    {
     "name": "stdout",
     "output_type": "stream",
     "text": [
      "cat\n",
      "cat\n",
      "lie\n",
      "lie\n",
      "run\n",
      "run\n",
      "citi\n",
      "citi\n",
      "month\n",
      "monthli\n",
      "woman\n",
      "women\n"
     ]
    }
   ],
   "source": [
    "for word in my_list:\n",
    "    print porter.stem(word)"
   ]
  },
  {
   "cell_type": "code",
   "execution_count": 17,
   "metadata": {
    "collapsed": true
   },
   "outputs": [],
   "source": [
    "lancaster = nltk.LancasterStemmer()"
   ]
  },
  {
   "cell_type": "code",
   "execution_count": 20,
   "metadata": {
    "collapsed": false
   },
   "outputs": [
    {
     "name": "stdout",
     "output_type": "stream",
     "text": [
      "cat\n",
      "cat\n",
      "lie\n",
      "lying\n",
      "run\n",
      "run\n",
      "city\n",
      "city\n",
      "mon\n",
      "month\n",
      "wom\n",
      "wom\n"
     ]
    }
   ],
   "source": [
    "for word in my_list:\n",
    "    print lancaster.stem(word)"
   ]
  },
  {
   "cell_type": "code",
   "execution_count": 21,
   "metadata": {
    "collapsed": true
   },
   "outputs": [],
   "source": [
    "wnlem = nltk.WordNetLemmatizer()"
   ]
  },
  {
   "cell_type": "code",
   "execution_count": 22,
   "metadata": {
    "collapsed": false
   },
   "outputs": [
    {
     "name": "stdout",
     "output_type": "stream",
     "text": [
      "cat\n",
      "cat\n",
      "lie\n",
      "lying\n",
      "run\n",
      "running\n",
      "city\n",
      "city\n",
      "month\n",
      "monthly\n",
      "woman\n",
      "woman\n"
     ]
    }
   ],
   "source": [
    "for word in my_list:\n",
    "    print wnlem.lemmatize(word)"
   ]
  },
  {
   "cell_type": "code",
   "execution_count": null,
   "metadata": {
    "collapsed": true
   },
   "outputs": [],
   "source": []
  }
 ],
 "metadata": {
  "kernelspec": {
   "display_name": "Python [Root]",
   "language": "python",
   "name": "Python [Root]"
  },
  "language_info": {
   "codemirror_mode": {
    "name": "ipython",
    "version": 2
   },
   "file_extension": ".py",
   "mimetype": "text/x-python",
   "name": "python",
   "nbconvert_exporter": "python",
   "pygments_lexer": "ipython2",
   "version": "2.7.12"
  }
 },
 "nbformat": 4,
 "nbformat_minor": 0
}
