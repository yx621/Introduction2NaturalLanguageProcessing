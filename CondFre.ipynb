{
 "cells": [
  {
   "cell_type": "code",
   "execution_count": 1,
   "metadata": {
    "collapsed": true
   },
   "outputs": [],
   "source": [
    "import nltk"
   ]
  },
  {
   "cell_type": "code",
   "execution_count": 2,
   "metadata": {
    "collapsed": true
   },
   "outputs": [],
   "source": [
    "names = [(\"Group A\", \"Paul\"), (\"Group A\", \"Mike\"), (\"Group A\", \"Katy\"), (\"Group B\", \"Amy\"), (\"Group B\", \"Joy\"), (\"Group B\", \"Amy\") ]"
   ]
  },
  {
   "cell_type": "code",
   "execution_count": 3,
   "metadata": {
    "collapsed": false
   },
   "outputs": [
    {
     "data": {
      "text/plain": [
       "[('Group A', 'Paul'),\n",
       " ('Group A', 'Mike'),\n",
       " ('Group A', 'Katy'),\n",
       " ('Group B', 'Amy'),\n",
       " ('Group B', 'Joy'),\n",
       " ('Group B', 'Amy')]"
      ]
     },
     "execution_count": 3,
     "metadata": {},
     "output_type": "execute_result"
    }
   ],
   "source": [
    "names"
   ]
  },
  {
   "cell_type": "code",
   "execution_count": 4,
   "metadata": {
    "collapsed": false
   },
   "outputs": [
    {
     "data": {
      "text/plain": [
       "FreqDist({('Group A', 'Katy'): 1,\n",
       "          ('Group A', 'Mike'): 1,\n",
       "          ('Group A', 'Paul'): 1,\n",
       "          ('Group B', 'Amy'): 2,\n",
       "          ('Group B', 'Joy'): 1})"
      ]
     },
     "execution_count": 4,
     "metadata": {},
     "output_type": "execute_result"
    }
   ],
   "source": [
    "nltk.FreqDist(names)"
   ]
  },
  {
   "cell_type": "code",
   "execution_count": 5,
   "metadata": {
    "collapsed": false
   },
   "outputs": [
    {
     "data": {
      "text/plain": [
       "ConditionalFreqDist(nltk.probability.FreqDist,\n",
       "                    {'Group A': FreqDist({'Katy': 1, 'Mike': 1, 'Paul': 1}),\n",
       "                     'Group B': FreqDist({'Amy': 2, 'Joy': 1})})"
      ]
     },
     "execution_count": 5,
     "metadata": {},
     "output_type": "execute_result"
    }
   ],
   "source": [
    "nltk.ConditionalFreqDist(names)"
   ]
  },
  {
   "cell_type": "code",
   "execution_count": 6,
   "metadata": {
    "collapsed": true
   },
   "outputs": [],
   "source": [
    "import nltk"
   ]
  },
  {
   "cell_type": "code",
   "execution_count": 8,
   "metadata": {
    "collapsed": false
   },
   "outputs": [],
   "source": [
    "alice = nltk.corpus.gutenberg.words(\"carroll-alice.txt\")"
   ]
  },
  {
   "cell_type": "code",
   "execution_count": 10,
   "metadata": {
    "collapsed": false
   },
   "outputs": [],
   "source": [
    "alice_fd = nltk.FreqDist(alice)"
   ]
  },
  {
   "cell_type": "code",
   "execution_count": 11,
   "metadata": {
    "collapsed": true
   },
   "outputs": [],
   "source": [
    "alcie_fd_100 = alice_fd.most_common(100)"
   ]
  },
  {
   "cell_type": "code",
   "execution_count": 14,
   "metadata": {
    "collapsed": false
   },
   "outputs": [],
   "source": [
    "moby = nltk.corpus.gutenberg.words(\"melville-moby_dick.txt\")"
   ]
  },
  {
   "cell_type": "code",
   "execution_count": 15,
   "metadata": {
    "collapsed": true
   },
   "outputs": [],
   "source": [
    "moby_fd = nltk.FreqDist(moby)\n",
    "moby_fd_100 = moby_fd.most_common(100)"
   ]
  },
  {
   "cell_type": "code",
   "execution_count": 16,
   "metadata": {
    "collapsed": false
   },
   "outputs": [
    {
     "ename": "NameError",
     "evalue": "name 'alice_fd_100' is not defined",
     "output_type": "error",
     "traceback": [
      "\u001b[1;31m---------------------------------------------------------------------------\u001b[0m",
      "\u001b[1;31mNameError\u001b[0m                                 Traceback (most recent call last)",
      "\u001b[1;32m<ipython-input-16-1129c27ab9b8>\u001b[0m in \u001b[0;36m<module>\u001b[1;34m()\u001b[0m\n\u001b[1;32m----> 1\u001b[1;33m \u001b[0malice_fd_100\u001b[0m\u001b[1;33m\u001b[0m\u001b[0m\n\u001b[0m",
      "\u001b[1;31mNameError\u001b[0m: name 'alice_fd_100' is not defined"
     ]
    }
   ],
   "source": [
    "alice_fd_100"
   ]
  },
  {
   "cell_type": "code",
   "execution_count": 17,
   "metadata": {
    "collapsed": false
   },
   "outputs": [
    {
     "data": {
      "text/plain": [
       "[(u',', 1993),\n",
       " (u\"'\", 1731),\n",
       " (u'the', 1527),\n",
       " (u'and', 802),\n",
       " (u'.', 764),\n",
       " (u'to', 725),\n",
       " (u'a', 615),\n",
       " (u'I', 543),\n",
       " (u'it', 527),\n",
       " (u'she', 509),\n",
       " (u'of', 500),\n",
       " (u'said', 456),\n",
       " (u\",'\", 397),\n",
       " (u'Alice', 396),\n",
       " (u'in', 357),\n",
       " (u'was', 352),\n",
       " (u'you', 345),\n",
       " (u\"!'\", 278),\n",
       " (u'that', 275),\n",
       " (u'as', 246),\n",
       " (u'her', 243),\n",
       " (u't', 216),\n",
       " (u':', 216),\n",
       " (u'at', 202),\n",
       " (u's', 195),\n",
       " (u'on', 189),\n",
       " (u\".'\", 187),\n",
       " (u';', 186),\n",
       " (u'had', 177),\n",
       " (u'with', 175),\n",
       " (u'all', 173),\n",
       " (u'!', 155),\n",
       " (u\"?'\", 154),\n",
       " (u'be', 145),\n",
       " (u'-', 141),\n",
       " (u'for', 140),\n",
       " (u'--', 140),\n",
       " (u'but', 133),\n",
       " (u'they', 129),\n",
       " (u'not', 129),\n",
       " (u'very', 126),\n",
       " (u'little', 125),\n",
       " (u'so', 124),\n",
       " (u'out', 116),\n",
       " (u'this', 113),\n",
       " (u'The', 108),\n",
       " (u'he', 101),\n",
       " (u'down', 99),\n",
       " (u'up', 98),\n",
       " (u'is', 97),\n",
       " (u'one', 94),\n",
       " (u'his', 94),\n",
       " (u'about', 94),\n",
       " (u'what', 93),\n",
       " (u'them', 88),\n",
       " (u'know', 87),\n",
       " (u'were', 85),\n",
       " (u'like', 84),\n",
       " (u'went', 83),\n",
       " (u'again', 83),\n",
       " (u'herself', 83),\n",
       " (u'if', 78),\n",
       " (u'or', 76),\n",
       " (u'Queen', 74),\n",
       " (u'thought', 74),\n",
       " (u'could', 73),\n",
       " (u'have', 73),\n",
       " (u'then', 72),\n",
       " (u'would', 70),\n",
       " (u'no', 69),\n",
       " (u'when', 69),\n",
       " (u'do', 68),\n",
       " (u'time', 68),\n",
       " (u'into', 67),\n",
       " (u'And', 67),\n",
       " (u'see', 66),\n",
       " (u'there', 65),\n",
       " (u'It', 64),\n",
       " (u'off', 62),\n",
       " (u'me', 61),\n",
       " (u'King', 61),\n",
       " (u'did', 60),\n",
       " (u'*', 60),\n",
       " (u'Turtle', 59),\n",
       " (u'm', 58),\n",
       " (u'began', 58),\n",
       " (u'can', 57),\n",
       " (u'way', 56),\n",
       " (u'its', 56),\n",
       " (u'Mock', 56),\n",
       " (u'll', 56),\n",
       " (u'my', 55),\n",
       " (u'Gryphon', 55),\n",
       " (u'by', 55),\n",
       " (u'Hatter', 55),\n",
       " (u'quite', 53),\n",
       " (u'your', 53),\n",
       " (u'an', 52),\n",
       " (u'don', 51),\n",
       " (u'much', 51)]"
      ]
     },
     "execution_count": 17,
     "metadata": {},
     "output_type": "execute_result"
    }
   ],
   "source": [
    "alcie_fd_100"
   ]
  },
  {
   "cell_type": "code",
   "execution_count": 18,
   "metadata": {
    "collapsed": false
   },
   "outputs": [
    {
     "data": {
      "text/plain": [
       "[(u',', 18713),\n",
       " (u'the', 13721),\n",
       " (u'.', 6862),\n",
       " (u'of', 6536),\n",
       " (u'and', 6024),\n",
       " (u'a', 4569),\n",
       " (u'to', 4542),\n",
       " (u';', 4072),\n",
       " (u'in', 3916),\n",
       " (u'that', 2982),\n",
       " (u\"'\", 2684),\n",
       " (u'-', 2552),\n",
       " (u'his', 2459),\n",
       " (u'it', 2209),\n",
       " (u'I', 2124),\n",
       " (u's', 1739),\n",
       " (u'is', 1695),\n",
       " (u'he', 1661),\n",
       " (u'with', 1659),\n",
       " (u'was', 1632),\n",
       " (u'as', 1620),\n",
       " (u'\"', 1478),\n",
       " (u'all', 1462),\n",
       " (u'for', 1414),\n",
       " (u'this', 1280),\n",
       " (u'!', 1269),\n",
       " (u'at', 1231),\n",
       " (u'by', 1137),\n",
       " (u'but', 1113),\n",
       " (u'not', 1103),\n",
       " (u'--', 1070),\n",
       " (u'him', 1058),\n",
       " (u'from', 1052),\n",
       " (u'be', 1030),\n",
       " (u'on', 1005),\n",
       " (u'so', 918),\n",
       " (u'whale', 906),\n",
       " (u'one', 889),\n",
       " (u'you', 841),\n",
       " (u'had', 767),\n",
       " (u'have', 760),\n",
       " (u'there', 715),\n",
       " (u'But', 705),\n",
       " (u'or', 697),\n",
       " (u'were', 680),\n",
       " (u'now', 646),\n",
       " (u'which', 640),\n",
       " (u'?', 637),\n",
       " (u'me', 627),\n",
       " (u'like', 624),\n",
       " (u'The', 612),\n",
       " (u'their', 612),\n",
       " (u'they', 586),\n",
       " (u'are', 586),\n",
       " (u'an', 582),\n",
       " (u'some', 578),\n",
       " (u'then', 571),\n",
       " (u'my', 564),\n",
       " (u'when', 553),\n",
       " (u'upon', 538),\n",
       " (u'out', 529),\n",
       " (u'into', 520),\n",
       " (u'man', 508),\n",
       " (u'ship', 507),\n",
       " (u'up', 505),\n",
       " (u'more', 501),\n",
       " (u'Ahab', 501),\n",
       " (u'.\"', 489),\n",
       " (u'no', 484),\n",
       " (u'them', 471),\n",
       " (u'ye', 460),\n",
       " (u'what', 442),\n",
       " (u'old', 436),\n",
       " (u'sea', 433),\n",
       " (u'if', 421),\n",
       " (u'would', 421),\n",
       " (u'been', 415),\n",
       " (u'we', 413),\n",
       " (u'other', 412),\n",
       " (u'over', 403),\n",
       " (u'these', 381),\n",
       " (u'will', 379),\n",
       " (u'its', 372),\n",
       " (u'And', 369),\n",
       " (u'down', 364),\n",
       " (u'only', 360),\n",
       " (u'such', 336),\n",
       " (u'though', 335),\n",
       " (u'head', 335),\n",
       " (u'boat', 330),\n",
       " (u'her', 329),\n",
       " (u'time', 324),\n",
       " (u'any', 320),\n",
       " (u'who', 319),\n",
       " (u'long', 318),\n",
       " (u'very', 311),\n",
       " (u'It', 310),\n",
       " (u'than', 309),\n",
       " (u'!\"', 305),\n",
       " (u'about', 304)]"
      ]
     },
     "execution_count": 18,
     "metadata": {},
     "output_type": "execute_result"
    }
   ],
   "source": [
    "moby_fd_100"
   ]
  },
  {
   "cell_type": "code",
   "execution_count": 20,
   "metadata": {
    "collapsed": false
   },
   "outputs": [],
   "source": [
    "alice_100 = [word[0] for word in alcie_fd_100]"
   ]
  },
  {
   "cell_type": "code",
   "execution_count": 21,
   "metadata": {
    "collapsed": true
   },
   "outputs": [],
   "source": [
    "moby_100 = [word[0] for word in moby_fd_100]"
   ]
  },
  {
   "cell_type": "code",
   "execution_count": 22,
   "metadata": {
    "collapsed": false
   },
   "outputs": [
    {
     "data": {
      "text/plain": [
       "[u',',\n",
       " u\"'\",\n",
       " u'the',\n",
       " u'and',\n",
       " u'.',\n",
       " u'to',\n",
       " u'a',\n",
       " u'I',\n",
       " u'it',\n",
       " u'she',\n",
       " u'of',\n",
       " u'said',\n",
       " u\",'\",\n",
       " u'Alice',\n",
       " u'in',\n",
       " u'was',\n",
       " u'you',\n",
       " u\"!'\",\n",
       " u'that',\n",
       " u'as',\n",
       " u'her',\n",
       " u't',\n",
       " u':',\n",
       " u'at',\n",
       " u's',\n",
       " u'on',\n",
       " u\".'\",\n",
       " u';',\n",
       " u'had',\n",
       " u'with',\n",
       " u'all',\n",
       " u'!',\n",
       " u\"?'\",\n",
       " u'be',\n",
       " u'-',\n",
       " u'for',\n",
       " u'--',\n",
       " u'but',\n",
       " u'they',\n",
       " u'not',\n",
       " u'very',\n",
       " u'little',\n",
       " u'so',\n",
       " u'out',\n",
       " u'this',\n",
       " u'The',\n",
       " u'he',\n",
       " u'down',\n",
       " u'up',\n",
       " u'is',\n",
       " u'one',\n",
       " u'his',\n",
       " u'about',\n",
       " u'what',\n",
       " u'them',\n",
       " u'know',\n",
       " u'were',\n",
       " u'like',\n",
       " u'went',\n",
       " u'again',\n",
       " u'herself',\n",
       " u'if',\n",
       " u'or',\n",
       " u'Queen',\n",
       " u'thought',\n",
       " u'could',\n",
       " u'have',\n",
       " u'then',\n",
       " u'would',\n",
       " u'no',\n",
       " u'when',\n",
       " u'do',\n",
       " u'time',\n",
       " u'into',\n",
       " u'And',\n",
       " u'see',\n",
       " u'there',\n",
       " u'It',\n",
       " u'off',\n",
       " u'me',\n",
       " u'King',\n",
       " u'did',\n",
       " u'*',\n",
       " u'Turtle',\n",
       " u'm',\n",
       " u'began',\n",
       " u'can',\n",
       " u'way',\n",
       " u'its',\n",
       " u'Mock',\n",
       " u'll',\n",
       " u'my',\n",
       " u'Gryphon',\n",
       " u'by',\n",
       " u'Hatter',\n",
       " u'quite',\n",
       " u'your',\n",
       " u'an',\n",
       " u'don',\n",
       " u'much']"
      ]
     },
     "execution_count": 22,
     "metadata": {},
     "output_type": "execute_result"
    }
   ],
   "source": [
    "alice_100"
   ]
  },
  {
   "cell_type": "code",
   "execution_count": 23,
   "metadata": {
    "collapsed": false
   },
   "outputs": [
    {
     "data": {
      "text/plain": [
       "{u\"!'\",\n",
       " u'*',\n",
       " u\",'\",\n",
       " u\".'\",\n",
       " u':',\n",
       " u\"?'\",\n",
       " u'Alice',\n",
       " u'Gryphon',\n",
       " u'Hatter',\n",
       " u'King',\n",
       " u'Mock',\n",
       " u'Queen',\n",
       " u'Turtle',\n",
       " u'again',\n",
       " u'began',\n",
       " u'can',\n",
       " u'could',\n",
       " u'did',\n",
       " u'do',\n",
       " u'don',\n",
       " u'herself',\n",
       " u'know',\n",
       " u'little',\n",
       " u'll',\n",
       " u'm',\n",
       " u'much',\n",
       " u'off',\n",
       " u'quite',\n",
       " u'said',\n",
       " u'see',\n",
       " u'she',\n",
       " u't',\n",
       " u'thought',\n",
       " u'way',\n",
       " u'went',\n",
       " u'your'}"
      ]
     },
     "execution_count": 23,
     "metadata": {},
     "output_type": "execute_result"
    }
   ],
   "source": [
    "set(alice_100) - set(moby_100)"
   ]
  },
  {
   "cell_type": "code",
   "execution_count": 24,
   "metadata": {
    "collapsed": false
   },
   "outputs": [
    {
     "data": {
      "text/plain": [
       "{u'!\"',\n",
       " u'\"',\n",
       " u'.\"',\n",
       " u'?',\n",
       " u'Ahab',\n",
       " u'But',\n",
       " u'any',\n",
       " u'are',\n",
       " u'been',\n",
       " u'boat',\n",
       " u'from',\n",
       " u'head',\n",
       " u'him',\n",
       " u'long',\n",
       " u'man',\n",
       " u'more',\n",
       " u'now',\n",
       " u'old',\n",
       " u'only',\n",
       " u'other',\n",
       " u'over',\n",
       " u'sea',\n",
       " u'ship',\n",
       " u'some',\n",
       " u'such',\n",
       " u'than',\n",
       " u'their',\n",
       " u'these',\n",
       " u'though',\n",
       " u'upon',\n",
       " u'we',\n",
       " u'whale',\n",
       " u'which',\n",
       " u'who',\n",
       " u'will',\n",
       " u'ye'}"
      ]
     },
     "execution_count": 24,
     "metadata": {},
     "output_type": "execute_result"
    }
   ],
   "source": [
    "set(moby_100) - set(alice_100)"
   ]
  },
  {
   "cell_type": "code",
   "execution_count": null,
   "metadata": {
    "collapsed": true
   },
   "outputs": [],
   "source": []
  }
 ],
 "metadata": {
  "anaconda-cloud": {},
  "kernelspec": {
   "display_name": "Python [Root]",
   "language": "python",
   "name": "Python [Root]"
  },
  "language_info": {
   "codemirror_mode": {
    "name": "ipython",
    "version": 2
   },
   "file_extension": ".py",
   "mimetype": "text/x-python",
   "name": "python",
   "nbconvert_exporter": "python",
   "pygments_lexer": "ipython2",
   "version": "2.7.12"
  }
 },
 "nbformat": 4,
 "nbformat_minor": 0
}
