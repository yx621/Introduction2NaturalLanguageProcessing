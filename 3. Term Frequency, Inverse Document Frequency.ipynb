{
 "cells": [
  {
   "cell_type": "markdown",
   "metadata": {},
   "source": [
    "# Projects - TF-IDF"
   ]
  },
  {
   "cell_type": "code",
   "execution_count": 1,
   "metadata": {
    "collapsed": true
   },
   "outputs": [],
   "source": [
    "from sklearn.feature_extraction.text import TfidfVectorizer\n",
    "import pandas as pd\n",
    "import numpy as np"
   ]
  },
  {
   "cell_type": "code",
   "execution_count": 2,
   "metadata": {
    "collapsed": true
   },
   "outputs": [],
   "source": [
    "phrases = [\"I am going to have a pizza delivered for dinner.\",\n",
    "           \"I am going to try that new French restaurant for dinner.\",\n",
    "           \"I prefer reading over going to the movies.\",\n",
    "           \"I prefer going to the movies over reading books.\",\n",
    "           \"I have friends in New York City.\",\n",
    "           \"She loves going to the movies.\"]"
   ]
  },
  {
   "cell_type": "code",
   "execution_count": 3,
   "metadata": {
    "collapsed": false
   },
   "outputs": [],
   "source": [
    "vect = TfidfVectorizer(min_df=1)\n",
    "tfidf = vect.fit_transform(phrases)"
   ]
  },
  {
   "cell_type": "code",
   "execution_count": 4,
   "metadata": {
    "collapsed": false
   },
   "outputs": [
    {
     "name": "stdout",
     "output_type": "stream",
     "text": [
      "[[ 1.          0.414471    0.12286451  0.10835914  0.12736866  0.1231687 ]\n",
      " [ 0.414471    1.          0.10445553  0.09212351  0.10828481  0.10471413]\n",
      " [ 0.12286451  0.10445553  1.          0.88194008  0.          0.42482132]\n",
      " [ 0.10835914  0.09212351  0.88194008  1.          0.          0.37466695]\n",
      " [ 0.12736866  0.10828481  0.          0.          1.          0.        ]\n",
      " [ 0.1231687   0.10471413  0.42482132  0.37466695  0.          1.        ]]\n"
     ]
    }
   ],
   "source": [
    "cosine=(tfidf * tfidf.T).A\n",
    "print cosine"
   ]
  },
  {
   "cell_type": "code",
   "execution_count": 5,
   "metadata": {
    "collapsed": false
   },
   "outputs": [
    {
     "data": {
      "text/html": [
       "<div>\n",
       "<table border=\"1\" class=\"dataframe\">\n",
       "  <thead>\n",
       "    <tr style=\"text-align: right;\">\n",
       "      <th></th>\n",
       "      <th>I am going to have a pizza delivered for dinner.</th>\n",
       "      <th>I am going to try that new French restaurant for dinner.</th>\n",
       "      <th>I prefer reading over going to the movies.</th>\n",
       "      <th>I prefer going to the movies over reading books.</th>\n",
       "      <th>I have friends in New York City.</th>\n",
       "      <th>She loves going to the movies.</th>\n",
       "    </tr>\n",
       "  </thead>\n",
       "  <tbody>\n",
       "    <tr>\n",
       "      <th>I am going to have a pizza delivered for dinner.</th>\n",
       "      <td>1.000000</td>\n",
       "      <td>0.414471</td>\n",
       "      <td>0.122865</td>\n",
       "      <td>0.108359</td>\n",
       "      <td>0.127369</td>\n",
       "      <td>0.123169</td>\n",
       "    </tr>\n",
       "    <tr>\n",
       "      <th>I am going to try that new French restaurant for dinner.</th>\n",
       "      <td>0.414471</td>\n",
       "      <td>1.000000</td>\n",
       "      <td>0.104456</td>\n",
       "      <td>0.092124</td>\n",
       "      <td>0.108285</td>\n",
       "      <td>0.104714</td>\n",
       "    </tr>\n",
       "    <tr>\n",
       "      <th>I prefer reading over going to the movies.</th>\n",
       "      <td>0.122865</td>\n",
       "      <td>0.104456</td>\n",
       "      <td>1.000000</td>\n",
       "      <td>0.881940</td>\n",
       "      <td>0.000000</td>\n",
       "      <td>0.424821</td>\n",
       "    </tr>\n",
       "    <tr>\n",
       "      <th>I prefer going to the movies over reading books.</th>\n",
       "      <td>0.108359</td>\n",
       "      <td>0.092124</td>\n",
       "      <td>0.881940</td>\n",
       "      <td>1.000000</td>\n",
       "      <td>0.000000</td>\n",
       "      <td>0.374667</td>\n",
       "    </tr>\n",
       "    <tr>\n",
       "      <th>I have friends in New York City.</th>\n",
       "      <td>0.127369</td>\n",
       "      <td>0.108285</td>\n",
       "      <td>0.000000</td>\n",
       "      <td>0.000000</td>\n",
       "      <td>1.000000</td>\n",
       "      <td>0.000000</td>\n",
       "    </tr>\n",
       "    <tr>\n",
       "      <th>She loves going to the movies.</th>\n",
       "      <td>0.123169</td>\n",
       "      <td>0.104714</td>\n",
       "      <td>0.424821</td>\n",
       "      <td>0.374667</td>\n",
       "      <td>0.000000</td>\n",
       "      <td>1.000000</td>\n",
       "    </tr>\n",
       "  </tbody>\n",
       "</table>\n",
       "</div>"
      ],
      "text/plain": [
       "                                                    I am going to have a pizza delivered for dinner.  \\\n",
       "I am going to have a pizza delivered for dinner.                                            1.000000   \n",
       "I am going to try that new French restaurant fo...                                          0.414471   \n",
       "I prefer reading over going to the movies.                                                  0.122865   \n",
       "I prefer going to the movies over reading books.                                            0.108359   \n",
       "I have friends in New York City.                                                            0.127369   \n",
       "She loves going to the movies.                                                              0.123169   \n",
       "\n",
       "                                                    I am going to try that new French restaurant for dinner.  \\\n",
       "I am going to have a pizza delivered for dinner.                                             0.414471          \n",
       "I am going to try that new French restaurant fo...                                           1.000000          \n",
       "I prefer reading over going to the movies.                                                   0.104456          \n",
       "I prefer going to the movies over reading books.                                             0.092124          \n",
       "I have friends in New York City.                                                             0.108285          \n",
       "She loves going to the movies.                                                               0.104714          \n",
       "\n",
       "                                                    I prefer reading over going to the movies.  \\\n",
       "I am going to have a pizza delivered for dinner.                                      0.122865   \n",
       "I am going to try that new French restaurant fo...                                    0.104456   \n",
       "I prefer reading over going to the movies.                                            1.000000   \n",
       "I prefer going to the movies over reading books.                                      0.881940   \n",
       "I have friends in New York City.                                                      0.000000   \n",
       "She loves going to the movies.                                                        0.424821   \n",
       "\n",
       "                                                    I prefer going to the movies over reading books.  \\\n",
       "I am going to have a pizza delivered for dinner.                                            0.108359   \n",
       "I am going to try that new French restaurant fo...                                          0.092124   \n",
       "I prefer reading over going to the movies.                                                  0.881940   \n",
       "I prefer going to the movies over reading books.                                            1.000000   \n",
       "I have friends in New York City.                                                            0.000000   \n",
       "She loves going to the movies.                                                              0.374667   \n",
       "\n",
       "                                                    I have friends in New York City.  \\\n",
       "I am going to have a pizza delivered for dinner.                            0.127369   \n",
       "I am going to try that new French restaurant fo...                          0.108285   \n",
       "I prefer reading over going to the movies.                                  0.000000   \n",
       "I prefer going to the movies over reading books.                            0.000000   \n",
       "I have friends in New York City.                                            1.000000   \n",
       "She loves going to the movies.                                              0.000000   \n",
       "\n",
       "                                                    She loves going to the movies.  \n",
       "I am going to have a pizza delivered for dinner.                          0.123169  \n",
       "I am going to try that new French restaurant fo...                        0.104714  \n",
       "I prefer reading over going to the movies.                                0.424821  \n",
       "I prefer going to the movies over reading books.                          0.374667  \n",
       "I have friends in New York City.                                          0.000000  \n",
       "She loves going to the movies.                                            1.000000  "
      ]
     },
     "execution_count": 5,
     "metadata": {},
     "output_type": "execute_result"
    }
   ],
   "source": [
    "df = pd.DataFrame(cosine, index=phrases, columns=phrases)\n",
    "df"
   ]
  },
  {
   "cell_type": "code",
   "execution_count": 17,
   "metadata": {
    "collapsed": true
   },
   "outputs": [],
   "source": [
    "import matplotlib\n",
    "%matplotlib inline\n",
    "import seaborn as sns"
   ]
  },
  {
   "cell_type": "code",
   "execution_count": 7,
   "metadata": {
    "collapsed": false
   },
   "outputs": [
    {
     "name": "stderr",
     "output_type": "stream",
     "text": [
      "/Users/Brian/anaconda/lib/python2.7/site-packages/matplotlib/collections.py:590: FutureWarning: elementwise comparison failed; returning scalar instead, but in the future will perform elementwise comparison\n",
      "  if self._edgecolors == str('face'):\n"
     ]
    },
    {
     "data": {
      "text/plain": [
       "<matplotlib.axes._subplots.AxesSubplot at 0x108515750>"
      ]
     },
     "execution_count": 7,
     "metadata": {},
     "output_type": "execute_result"
    },
    {
     "data": {
      "image/png": "[encoded data removed]",
      "text/plain": [
       "<matplotlib.figure.Figure at 0x1073efa90>"
      ]
     },
     "metadata": {},
     "output_type": "display_data"
    }
   ],
   "source": [
    "sns.heatmap(df, annot=True)"
   ]
  },
  {
   "cell_type": "code",
   "execution_count": 8,
   "metadata": {
    "collapsed": true
   },
   "outputs": [],
   "source": [
    "from sklearn.decomposition import NMF"
   ]
  },
  {
   "cell_type": "code",
   "execution_count": 9,
   "metadata": {
    "collapsed": false
   },
   "outputs": [],
   "source": [
    "d1 = open(\"tfidf_1.txt\").read()\n",
    "d2 = open(\"tfidf_2.txt\").read()\n",
    "d3 = open(\"tfidf_3.txt\").read()\n",
    "d4 = open(\"tfidf_4.txt\").read()\n",
    "d5 = open(\"tfidf_5.txt\").read()\n",
    "d6 = open(\"tfidf_6.txt\").read()\n",
    "d7 = open(\"tfidf_7.txt\").read()\n",
    "d8 = open(\"tfidf_8.txt\").read()\n",
    "d9 = open(\"tfidf_9.txt\").read()\n",
    "d10 = open(\"tfidf_10.txt\").read()"
   ]
  },
  {
   "cell_type": "code",
   "execution_count": 10,
   "metadata": {
    "collapsed": true
   },
   "outputs": [],
   "source": [
    "dataset = [d1,d2,d3,d4,d5,d6,d7,d8,d9,d10]\n"
   ]
  },
  {
   "cell_type": "code",
   "execution_count": 11,
   "metadata": {
    "collapsed": true
   },
   "outputs": [],
   "source": [
    "n_features = 100\n",
    "n_topics = 10\n",
    "n_top_words = 10"
   ]
  },
  {
   "cell_type": "code",
   "execution_count": 12,
   "metadata": {
    "collapsed": true
   },
   "outputs": [],
   "source": [
    "vectorizer = TfidfVectorizer(min_df=1, max_features=n_features, stop_words='english')"
   ]
  },
  {
   "cell_type": "code",
   "execution_count": 13,
   "metadata": {
    "collapsed": false
   },
   "outputs": [],
   "source": [
    "tfidf = vectorizer.fit_transform(dataset)"
   ]
  },
  {
   "cell_type": "code",
   "execution_count": 14,
   "metadata": {
    "collapsed": false
   },
   "outputs": [],
   "source": [
    "nmf = NMF(n_components=n_topics, random_state=1).fit(tfidf)"
   ]
  },
  {
   "cell_type": "code",
   "execution_count": 15,
   "metadata": {
    "collapsed": false
   },
   "outputs": [],
   "source": [
    "feature_names = vectorizer.get_feature_names()"
   ]
  },
  {
   "cell_type": "code",
   "execution_count": 16,
   "metadata": {
    "collapsed": false
   },
   "outputs": [
    {
     "name": "stdout",
     "output_type": "stream",
     "text": [
      "Topic #0:\n",
      "revolution french revolutionary napoleon political leading global popular modern republic\n",
      "\n",
      "\n",
      "Topic #1:\n",
      "tesla electrical wireless work york popular new power series american\n",
      "\n",
      "\n",
      "Topic #2:\n",
      "newton work earth day time later european church president widely\n",
      "\n",
      "\n",
      "Topic #3:\n",
      "leonardo man time later widely world life history april france\n",
      "\n",
      "\n",
      "Topic #4:\n",
      "lunar module armstrong apollo earth landed command july 11 man\n",
      "\n",
      "\n",
      "Topic #5:\n",
      "rockefeller oil church life american modern man national central supported\n",
      "\n",
      "\n",
      "Topic #6:\n",
      "war soviet union axis japan germany allies united invasion 1945\n",
      "\n",
      "\n",
      "Topic #7:\n",
      "titanic ship passengers safety people april new wireless world led\n",
      "\n",
      "\n",
      "Topic #8:\n",
      "washington american president british continental national army states united war\n",
      "\n",
      "\n",
      "Topic #9:\n",
      "napoleon french coalition europe france battle empire military army allies\n",
      "\n",
      "\n"
     ]
    }
   ],
   "source": [
    "for topic_idx, topic in enumerate(nmf.components_):\n",
    "    print(\"Topic #%d:\" % topic_idx)\n",
    "    print(\" \".join([feature_names[i]\n",
    "                    for i in topic.argsort()[:-n_top_words - 1:-1]]))\n",
    "    print(\"\\n\")"
   ]
  }
 ],
 "metadata": {
  "anaconda-cloud": {},
  "kernelspec": {
   "display_name": "Python [Root]",
   "language": "python",
   "name": "Python [Root]"
  },
  "language_info": {
   "codemirror_mode": {
    "name": "ipython",
    "version": 2
   },
   "file_extension": ".py",
   "mimetype": "text/x-python",
   "name": "python",
   "nbconvert_exporter": "python",
   "pygments_lexer": "ipython2",
   "version": "2.7.12"
  }
 },
 "nbformat": 4,
 "nbformat_minor": 0
}
