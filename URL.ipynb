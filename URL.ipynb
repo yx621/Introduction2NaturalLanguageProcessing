{
 "cells": [
  {
   "cell_type": "code",
   "execution_count": 1,
   "metadata": {
    "collapsed": true
   },
   "outputs": [],
   "source": [
    "import nltk"
   ]
  },
  {
   "cell_type": "code",
   "execution_count": 2,
   "metadata": {
    "collapsed": true
   },
   "outputs": [],
   "source": [
    "from urllib import urlopen"
   ]
  },
  {
   "cell_type": "code",
   "execution_count": 3,
   "metadata": {
    "collapsed": true
   },
   "outputs": [],
   "source": [
    "url = \"http://www.gutenberg.org/cache/epub/26275/pg26275.txt\""
   ]
  },
  {
   "cell_type": "code",
   "execution_count": 6,
   "metadata": {
    "collapsed": true
   },
   "outputs": [],
   "source": [
    "odyssey_str = urlopen(url).read()"
   ]
  },
  {
   "cell_type": "code",
   "execution_count": 7,
   "metadata": {
    "collapsed": false
   },
   "outputs": [
    {
     "data": {
      "text/plain": [
       "\"The Project Gutenberg EBook of Homer's Odyssey\""
      ]
     },
     "execution_count": 7,
     "metadata": {},
     "output_type": "execute_result"
    }
   ],
   "source": [
    "odyssey_str[3:49]"
   ]
  },
  {
   "cell_type": "code",
   "execution_count": 8,
   "metadata": {
    "collapsed": true
   },
   "outputs": [],
   "source": [
    "odyssey_tokens = nltk.word_tokenize(odyssey_str.decode(\"utf-8\"))"
   ]
  },
  {
   "cell_type": "code",
   "execution_count": 9,
   "metadata": {
    "collapsed": false
   },
   "outputs": [
    {
     "data": {
      "text/plain": [
       "[u'EBook',\n",
       " u'of',\n",
       " u'Homer',\n",
       " u\"'s\",\n",
       " u'Odyssey',\n",
       " u',',\n",
       " u'by',\n",
       " u'Denton',\n",
       " u'J.',\n",
       " u'Snider',\n",
       " u'This',\n",
       " u'eBook',\n",
       " u'is',\n",
       " u'for',\n",
       " u'the',\n",
       " u'use',\n",
       " u'of',\n",
       " u'anyone',\n",
       " u'anywhere',\n",
       " u'at',\n",
       " u'no',\n",
       " u'cost',\n",
       " u'and',\n",
       " u'with',\n",
       " u'almost',\n",
       " u'no',\n",
       " u'restrictions',\n",
       " u'whatsoever',\n",
       " u'.',\n",
       " u'You',\n",
       " u'may',\n",
       " u'copy',\n",
       " u'it',\n",
       " u',',\n",
       " u'give',\n",
       " u'it',\n",
       " u'away',\n",
       " u'or',\n",
       " u're-use',\n",
       " u'it',\n",
       " u'under',\n",
       " u'the',\n",
       " u'terms',\n",
       " u'of',\n",
       " u'the',\n",
       " u'Project']"
      ]
     },
     "execution_count": 9,
     "metadata": {},
     "output_type": "execute_result"
    }
   ],
   "source": [
    "odyssey_tokens[3:49]"
   ]
  },
  {
   "cell_type": "code",
   "execution_count": 10,
   "metadata": {
    "collapsed": false
   },
   "outputs": [
    {
     "data": {
      "text/plain": [
       "145070"
      ]
     },
     "execution_count": 10,
     "metadata": {},
     "output_type": "execute_result"
    }
   ],
   "source": [
    "len(odyssey_tokens)"
   ]
  },
  {
   "cell_type": "code",
   "execution_count": 11,
   "metadata": {
    "collapsed": false
   },
   "outputs": [
    {
     "data": {
      "text/plain": [
       "list"
      ]
     },
     "execution_count": 11,
     "metadata": {},
     "output_type": "execute_result"
    }
   ],
   "source": [
    "type(odyssey_tokens)"
   ]
  },
  {
   "cell_type": "code",
   "execution_count": null,
   "metadata": {
    "collapsed": true
   },
   "outputs": [],
   "source": []
  }
 ],
 "metadata": {
  "kernelspec": {
   "display_name": "Python [Root]",
   "language": "python",
   "name": "Python [Root]"
  },
  "language_info": {
   "codemirror_mode": {
    "name": "ipython",
    "version": 2
   },
   "file_extension": ".py",
   "mimetype": "text/x-python",
   "name": "python",
   "nbconvert_exporter": "python",
   "pygments_lexer": "ipython2",
   "version": "2.7.12"
  }
 },
 "nbformat": 4,
 "nbformat_minor": 0
}
