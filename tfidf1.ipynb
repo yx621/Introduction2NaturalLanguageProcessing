{
 "cells": [
  {
   "cell_type": "code",
   "execution_count": 15,
   "metadata": {
    "collapsed": true
   },
   "outputs": [],
   "source": [
    "from sklearn.feature_extraction.text import TfidfVectorizer"
   ]
  },
  {
   "cell_type": "code",
   "execution_count": 16,
   "metadata": {
    "collapsed": true
   },
   "outputs": [],
   "source": [
    "import pandas as pd"
   ]
  },
  {
   "cell_type": "code",
   "execution_count": 17,
   "metadata": {
    "collapsed": true
   },
   "outputs": [],
   "source": [
    "import numpy as np"
   ]
  },
  {
   "cell_type": "code",
   "execution_count": 18,
   "metadata": {
    "collapsed": false
   },
   "outputs": [
    {
     "name": "stdout",
     "output_type": "stream",
     "text": [
      "hello world\n"
     ]
    }
   ],
   "source": [
    "print \"hello world\""
   ]
  },
  {
   "cell_type": "code",
   "execution_count": 5,
   "metadata": {
    "collapsed": true
   },
   "outputs": [],
   "source": [
    "prases = [\"I am going to have a pizza dilivered for dinner\",\n",
    "          \"I am going to try that new French restaurant for dinner\",\n",
    "          \"I prefer reading over going to movie\",\n",
    "          \"I prefer going to the movies over reading books\",\n",
    "          \"I have friends in New York city\",\n",
    "          \"She loves going to movies\"]"
   ]
  },
  {
   "cell_type": "code",
   "execution_count": 7,
   "metadata": {
    "collapsed": false
   },
   "outputs": [],
   "source": [
    "vect = TfidfVectorizer(min_df=1)\n",
    "tfidf = vect.fit_transform(prases)"
   ]
  },
  {
   "cell_type": "code",
   "execution_count": 8,
   "metadata": {
    "collapsed": true
   },
   "outputs": [],
   "source": [
    "cosine = (tfidf*tfidf.T).A"
   ]
  },
  {
   "cell_type": "code",
   "execution_count": 9,
   "metadata": {
    "collapsed": false
   },
   "outputs": [
    {
     "name": "stdout",
     "output_type": "stream",
     "text": [
      "[[ 1.          0.414471    0.12214428  0.1006697   0.12736866  0.12856247]\n",
      " [ 0.414471    1.          0.10384321  0.0855862   0.10828481  0.10929975]\n",
      " [ 0.12214428  0.10384321  1.          0.59151203  0.          0.15598707]\n",
      " [ 0.1006697   0.0855862   0.59151203  1.          0.          0.29323951]\n",
      " [ 0.12736866  0.10828481  0.          0.          1.          0.        ]\n",
      " [ 0.12856247  0.10929975  0.15598707  0.29323951  0.          1.        ]]\n"
     ]
    }
   ],
   "source": [
    "print cosine"
   ]
  },
  {
   "cell_type": "code",
   "execution_count": 10,
   "metadata": {
    "collapsed": true
   },
   "outputs": [],
   "source": [
    "df = pd.DataFrame(cosine, index=prases, columns=prases)"
   ]
  },
  {
   "cell_type": "code",
   "execution_count": 11,
   "metadata": {
    "collapsed": false
   },
   "outputs": [
    {
     "data": {
      "text/html": [
       "<div>\n",
       "<table border=\"1\" class=\"dataframe\">\n",
       "  <thead>\n",
       "    <tr style=\"text-align: right;\">\n",
       "      <th></th>\n",
       "      <th>I am going to have a pizza dilivered for dinner</th>\n",
       "      <th>I am going to try that new French restaurant for dinner</th>\n",
       "      <th>I prefer reading over going to movie</th>\n",
       "      <th>I prefer going to the movies over reading books</th>\n",
       "      <th>I have friends in New York city</th>\n",
       "      <th>She loves going to movies</th>\n",
       "    </tr>\n",
       "  </thead>\n",
       "  <tbody>\n",
       "    <tr>\n",
       "      <th>I am going to have a pizza dilivered for dinner</th>\n",
       "      <td>1.000000</td>\n",
       "      <td>0.414471</td>\n",
       "      <td>0.122144</td>\n",
       "      <td>0.100670</td>\n",
       "      <td>0.127369</td>\n",
       "      <td>0.128562</td>\n",
       "    </tr>\n",
       "    <tr>\n",
       "      <th>I am going to try that new French restaurant for dinner</th>\n",
       "      <td>0.414471</td>\n",
       "      <td>1.000000</td>\n",
       "      <td>0.103843</td>\n",
       "      <td>0.085586</td>\n",
       "      <td>0.108285</td>\n",
       "      <td>0.109300</td>\n",
       "    </tr>\n",
       "    <tr>\n",
       "      <th>I prefer reading over going to movie</th>\n",
       "      <td>0.122144</td>\n",
       "      <td>0.103843</td>\n",
       "      <td>1.000000</td>\n",
       "      <td>0.591512</td>\n",
       "      <td>0.000000</td>\n",
       "      <td>0.155987</td>\n",
       "    </tr>\n",
       "    <tr>\n",
       "      <th>I prefer going to the movies over reading books</th>\n",
       "      <td>0.100670</td>\n",
       "      <td>0.085586</td>\n",
       "      <td>0.591512</td>\n",
       "      <td>1.000000</td>\n",
       "      <td>0.000000</td>\n",
       "      <td>0.293240</td>\n",
       "    </tr>\n",
       "    <tr>\n",
       "      <th>I have friends in New York city</th>\n",
       "      <td>0.127369</td>\n",
       "      <td>0.108285</td>\n",
       "      <td>0.000000</td>\n",
       "      <td>0.000000</td>\n",
       "      <td>1.000000</td>\n",
       "      <td>0.000000</td>\n",
       "    </tr>\n",
       "    <tr>\n",
       "      <th>She loves going to movies</th>\n",
       "      <td>0.128562</td>\n",
       "      <td>0.109300</td>\n",
       "      <td>0.155987</td>\n",
       "      <td>0.293240</td>\n",
       "      <td>0.000000</td>\n",
       "      <td>1.000000</td>\n",
       "    </tr>\n",
       "  </tbody>\n",
       "</table>\n",
       "</div>"
      ],
      "text/plain": [
       "                                                    I am going to have a pizza dilivered for dinner  \\\n",
       "I am going to have a pizza dilivered for dinner                                            1.000000   \n",
       "I am going to try that new French restaurant fo...                                         0.414471   \n",
       "I prefer reading over going to movie                                                       0.122144   \n",
       "I prefer going to the movies over reading books                                            0.100670   \n",
       "I have friends in New York city                                                            0.127369   \n",
       "She loves going to movies                                                                  0.128562   \n",
       "\n",
       "                                                    I am going to try that new French restaurant for dinner  \\\n",
       "I am going to have a pizza dilivered for dinner                                              0.414471         \n",
       "I am going to try that new French restaurant fo...                                           1.000000         \n",
       "I prefer reading over going to movie                                                         0.103843         \n",
       "I prefer going to the movies over reading books                                              0.085586         \n",
       "I have friends in New York city                                                              0.108285         \n",
       "She loves going to movies                                                                    0.109300         \n",
       "\n",
       "                                                    I prefer reading over going to movie  \\\n",
       "I am going to have a pizza dilivered for dinner                                 0.122144   \n",
       "I am going to try that new French restaurant fo...                              0.103843   \n",
       "I prefer reading over going to movie                                            1.000000   \n",
       "I prefer going to the movies over reading books                                 0.591512   \n",
       "I have friends in New York city                                                 0.000000   \n",
       "She loves going to movies                                                       0.155987   \n",
       "\n",
       "                                                    I prefer going to the movies over reading books  \\\n",
       "I am going to have a pizza dilivered for dinner                                            0.100670   \n",
       "I am going to try that new French restaurant fo...                                         0.085586   \n",
       "I prefer reading over going to movie                                                       0.591512   \n",
       "I prefer going to the movies over reading books                                            1.000000   \n",
       "I have friends in New York city                                                            0.000000   \n",
       "She loves going to movies                                                                  0.293240   \n",
       "\n",
       "                                                    I have friends in New York city  \\\n",
       "I am going to have a pizza dilivered for dinner                            0.127369   \n",
       "I am going to try that new French restaurant fo...                         0.108285   \n",
       "I prefer reading over going to movie                                       0.000000   \n",
       "I prefer going to the movies over reading books                            0.000000   \n",
       "I have friends in New York city                                            1.000000   \n",
       "She loves going to movies                                                  0.000000   \n",
       "\n",
       "                                                    She loves going to movies  \n",
       "I am going to have a pizza dilivered for dinner                      0.128562  \n",
       "I am going to try that new French restaurant fo...                   0.109300  \n",
       "I prefer reading over going to movie                                 0.155987  \n",
       "I prefer going to the movies over reading books                      0.293240  \n",
       "I have friends in New York city                                      0.000000  \n",
       "She loves going to movies                                            1.000000  "
      ]
     },
     "execution_count": 11,
     "metadata": {},
     "output_type": "execute_result"
    }
   ],
   "source": [
    "df"
   ]
  },
  {
   "cell_type": "code",
   "execution_count": 19,
   "metadata": {
    "collapsed": false
   },
   "outputs": [
    {
     "ename": "ImportError",
     "evalue": "No module named seaborn",
     "output_type": "error",
     "traceback": [
      "\u001b[1;31m---------------------------------------------------------------------------\u001b[0m",
      "\u001b[1;31mImportError\u001b[0m                               Traceback (most recent call last)",
      "\u001b[1;32m<ipython-input-19-245d19299856>\u001b[0m in \u001b[0;36m<module>\u001b[1;34m()\u001b[0m\n\u001b[1;32m----> 1\u001b[1;33m \u001b[1;32mimport\u001b[0m \u001b[0mseaborn\u001b[0m \u001b[1;32mas\u001b[0m \u001b[0msns\u001b[0m\u001b[1;33m\u001b[0m\u001b[0m\n\u001b[0m\u001b[0;32m      2\u001b[0m \u001b[0mget_ipython\u001b[0m\u001b[1;33m(\u001b[0m\u001b[1;33m)\u001b[0m\u001b[1;33m.\u001b[0m\u001b[0mmagic\u001b[0m\u001b[1;33m(\u001b[0m\u001b[1;34mu'matplotlib inline'\u001b[0m\u001b[1;33m)\u001b[0m\u001b[1;33m\u001b[0m\u001b[0m\n",
      "\u001b[1;31mImportError\u001b[0m: No module named seaborn"
     ]
    }
   ],
   "source": [
    "import seaborn as sns\n",
    "%matplotlib inline"
   ]
  },
  {
   "cell_type": "code",
   "execution_count": 20,
   "metadata": {
    "collapsed": true
   },
   "outputs": [],
   "source": [
    "from sklearn.decomposition import NMF"
   ]
  },
  {
   "cell_type": "code",
   "execution_count": 21,
   "metadata": {
    "collapsed": true
   },
   "outputs": [],
   "source": [
    "d1 = open(\"tfidf_1.txt\").read()\n",
    "d2 = open(\"tfidf_2.txt\").read()\n",
    "d3 = open(\"tfidf_3.txt\").read()\n",
    "d4 = open(\"tfidf_4.txt\").read()\n",
    "d5 = open(\"tfidf_5.txt\").read()\n",
    "d6 = open(\"tfidf_6.txt\").read()\n",
    "d7 = open(\"tfidf_7.txt\").read()\n",
    "d8 = open(\"tfidf_8.txt\").read()\n",
    "d9 = open(\"tfidf_9.txt\").read()\n",
    "d10 = open(\"tfidf_10.txt\").read()"
   ]
  },
  {
   "cell_type": "code",
   "execution_count": 22,
   "metadata": {
    "collapsed": true
   },
   "outputs": [],
   "source": [
    "dataset = [d1, d2, d3, d4, d5, d6, d7, d8, d9, d10]"
   ]
  },
  {
   "cell_type": "code",
   "execution_count": 23,
   "metadata": {
    "collapsed": true
   },
   "outputs": [],
   "source": [
    "vectorizer = TfidfVectorizer(min_df = 1, max_features = 100, stop_words = \"english\")"
   ]
  },
  {
   "cell_type": "code",
   "execution_count": 24,
   "metadata": {
    "collapsed": true
   },
   "outputs": [],
   "source": [
    "tfidf = vectorizer.fit_transform(dataset)"
   ]
  },
  {
   "cell_type": "code",
   "execution_count": 25,
   "metadata": {
    "collapsed": true
   },
   "outputs": [],
   "source": [
    "nmf = NMF(n_components=10, random_state=1).fit(tfidf)"
   ]
  },
  {
   "cell_type": "code",
   "execution_count": 26,
   "metadata": {
    "collapsed": true
   },
   "outputs": [],
   "source": [
    "feature_names = vectorizer.get_feature_names()"
   ]
  },
  {
   "cell_type": "code",
   "execution_count": 29,
   "metadata": {
    "collapsed": false
   },
   "outputs": [
    {
     "name": "stdout",
     "output_type": "stream",
     "text": [
      "Topic #0:\n",
      "revolution french revolutionary napoleon political leading global popular modern republic\n",
      "\n",
      "\n",
      "Topic #1:\n",
      "tesla electrical wireless work york popular new power american series\n",
      "\n",
      "\n",
      "Topic #2:\n",
      "newton work earth time day later european president church government\n",
      "\n",
      "\n",
      "Topic #3:\n",
      "leonardo man time later widely world life history april france\n",
      "\n",
      "\n",
      "Topic #4:\n",
      "lunar module armstrong apollo earth landed command july 11 man\n",
      "\n",
      "\n",
      "Topic #5:\n",
      "rockefeller oil church life american modern man national supported central\n",
      "\n",
      "\n",
      "Topic #6:\n",
      "war soviet union axis germany allies japan united invasion 1945\n",
      "\n",
      "\n",
      "Topic #7:\n",
      "titanic ship passengers safety people april new wireless world led\n",
      "\n",
      "\n",
      "Topic #8:\n",
      "washington american president british continental national army united states war\n",
      "\n",
      "\n",
      "Topic #9:\n",
      "napoleon french coalition europe france battle empire military army allies\n",
      "\n",
      "\n"
     ]
    }
   ],
   "source": [
    "for topic_idx, topic in enumerate(nmf.components_):\n",
    "    print(\"Topic #%d:\" %topic_idx)\n",
    "    print \" \".join([feature_names[i]\n",
    "                   for i in topic.argsort()[:-10 -1:-1]])\n",
    "    print \"\\n\""
   ]
  },
  {
   "cell_type": "code",
   "execution_count": null,
   "metadata": {
    "collapsed": true
   },
   "outputs": [],
   "source": []
  }
 ],
 "metadata": {
  "kernelspec": {
   "display_name": "Python [Root]",
   "language": "python",
   "name": "Python [Root]"
  },
  "language_info": {
   "codemirror_mode": {
    "name": "ipython",
    "version": 2
   },
   "file_extension": ".py",
   "mimetype": "text/x-python",
   "name": "python",
   "nbconvert_exporter": "python",
   "pygments_lexer": "ipython2",
   "version": "2.7.12"
  }
 },
 "nbformat": 4,
 "nbformat_minor": 0
}
